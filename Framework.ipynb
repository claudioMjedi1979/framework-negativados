{
 "cells": [
  {
   "cell_type": "code",
   "execution_count": 0,
   "metadata": {
    "application/vnd.databricks.v1+cell": {
     "cellMetadata": {
      "byteLimit": 2048000,
      "rowLimit": 10000
     },
     "inputWidgets": {},
     "nuid": "28fade04-fa3e-4846-95f5-73b8d36724ef",
     "showTitle": false,
     "tableResultSettingsMap": {},
     "title": ""
    }
   },
   "outputs": [],
   "source": [
    "from pyspark.sql import SparkSession\n",
    "from pyspark.sql.functions import col, rand, lit\n",
    "import random"
   ]
  },
  {
   "cell_type": "code",
   "execution_count": 0,
   "metadata": {
    "application/vnd.databricks.v1+cell": {
     "cellMetadata": {
      "byteLimit": 2048000,
      "rowLimit": 10000
     },
     "inputWidgets": {},
     "nuid": "ff6b7405-0845-46b2-9674-ea3962cace0a",
     "showTitle": false,
     "tableResultSettingsMap": {},
     "title": ""
    }
   },
   "outputs": [],
   "source": [
    "# Criar sessão Spark\n",
    "spark = SparkSession.builder.appName(\"SorteioNegativados\").getOrCreate()\n",
    "\n",
    "# Criar dataframe de exemplo com pessoas negativadas\n",
    "dados_pessoas = [\n",
    "    (1, \"João Silva\", \"123.456.789-00\", 1500.00),\n",
    "    (2, \"Maria Souza\", \"987.654.321-00\", 2500.00),\n",
    "    (3, \"Carlos Pereira\", \"321.654.987-00\", 3500.00)\n",
    "]\n",
    "\n",
    "colunas = [\"id\", \"nome\", \"cpf\", \"valor_divida\"]\n",
    "df_pessoas = spark.createDataFrame(dados_pessoas, colunas)"
   ]
  },
  {
   "cell_type": "code",
   "execution_count": 0,
   "metadata": {
    "application/vnd.databricks.v1+cell": {
     "cellMetadata": {
      "byteLimit": 2048000,
      "rowLimit": 10000
     },
     "inputWidgets": {},
     "nuid": "0270d3a0-4531-4b44-b149-50c62e4fce6b",
     "showTitle": false,
     "tableResultSettingsMap": {},
     "title": ""
    }
   },
   "outputs": [],
   "source": [
    "# Salvar em Delta Lake (caso necessário)\n",
    "df_pessoas.write.format(\"delta\").mode(\"overwrite\").saveAsTable(\"pessoas_negativadas\")\n"
   ]
  },
  {
   "cell_type": "code",
   "execution_count": 0,
   "metadata": {
    "application/vnd.databricks.v1+cell": {
     "cellMetadata": {
      "byteLimit": 2048000,
      "rowLimit": 10000
     },
     "inputWidgets": {},
     "nuid": "8b6d6c15-a644-4fce-ae3e-f506276e12ac",
     "showTitle": false,
     "tableResultSettingsMap": {},
     "title": ""
    }
   },
   "outputs": [],
   "source": [
    "# Criar baralho de descontos (10% a 100%)\n",
    "descontos = [10, 20, 30, 40, 50, 60, 70, 80, 90, 100]"
   ]
  },
  {
   "cell_type": "code",
   "execution_count": 0,
   "metadata": {
    "application/vnd.databricks.v1+cell": {
     "cellMetadata": {
      "byteLimit": 2048000,
      "rowLimit": 10000
     },
     "inputWidgets": {},
     "nuid": "8a038361-d263-4f05-a6d4-6062f37d4395",
     "showTitle": false,
     "tableResultSettingsMap": {},
     "title": ""
    }
   },
   "outputs": [],
   "source": [
    "# Sortear pessoa aleatória\n",
    "pessoa_sorteada = df_pessoas.orderBy(rand()).limit(1).collect()[0]"
   ]
  },
  {
   "cell_type": "code",
   "execution_count": 0,
   "metadata": {
    "application/vnd.databricks.v1+cell": {
     "cellMetadata": {
      "byteLimit": 2048000,
      "rowLimit": 10000
     },
     "inputWidgets": {},
     "nuid": "b0b4360a-45d9-4e08-a839-25adaaa841ad",
     "showTitle": false,
     "tableResultSettingsMap": {},
     "title": ""
    }
   },
   "outputs": [
    {
     "output_type": "stream",
     "name": "stdout",
     "output_type": "stream",
     "text": [
      "+---+----------+-----------------+-----------------+\n| id|      nome|desconto_aplicado|novo_valor_divida|\n+---+----------+-----------------+-----------------+\n|  1|João Silva|               20|           1200.0|\n+---+----------+-----------------+-----------------+\n\n"
     ]
    }
   ],
   "source": [
    "# Sortear desconto aleatório\n",
    "desconto_sorteado = random.choice(descontos)\n",
    "\n",
    "# Calcular novo valor da dívida\n",
    "novo_valor = pessoa_sorteada[\"valor_divida\"] * (1 - desconto_sorteado / 100)\n",
    "\n",
    "# Criar DataFrame com resultado\n",
    "df_sorteio = spark.createDataFrame([(pessoa_sorteada[\"id\"], pessoa_sorteada[\"nome\"], desconto_sorteado, novo_valor)], \n",
    "                                   [\"id\", \"nome\", \"desconto_aplicado\", \"novo_valor_divida\"])\n",
    "\n",
    "# Salvar no Delta Lake\n",
    "df_sorteio.write.format(\"delta\").mode(\"append\").saveAsTable(\"historico_sorteios\")\n",
    "\n",
    "# Exibir resultado\n",
    "df_sorteio.show()"
   ]
  },
  {
   "cell_type": "code",
   "execution_count": 0,
   "metadata": {
    "application/vnd.databricks.v1+cell": {
     "cellMetadata": {
      "byteLimit": 2048000,
      "implicitDf": true,
      "rowLimit": 10000
     },
     "inputWidgets": {},
     "nuid": "b8c1374a-f15d-4fa6-a38e-bfd2d156c059",
     "showTitle": false,
     "tableResultSettingsMap": {},
     "title": ""
    }
   },
   "outputs": [
    {
     "output_type": "display_data",
     "data": {
      "text/html": [
       "<style scoped>\n",
       "  .table-result-container {\n",
       "    max-height: 300px;\n",
       "    overflow: auto;\n",
       "  }\n",
       "  table, th, td {\n",
       "    border: 1px solid black;\n",
       "    border-collapse: collapse;\n",
       "  }\n",
       "  th, td {\n",
       "    padding: 5px;\n",
       "  }\n",
       "  th {\n",
       "    text-align: left;\n",
       "  }\n",
       "</style><div class='table-result-container'><table class='table-result'><thead style='background-color: white'><tr><th>id</th><th>nome</th><th>desconto_aplicado</th><th>novo_valor_divida</th></tr></thead><tbody><tr><td>1</td><td>João Silva</td><td>20</td><td>1200.0</td></tr></tbody></table></div>"
      ]
     },
     "metadata": {
      "application/vnd.databricks.v1+output": {
       "addedWidgets": {},
       "aggData": [],
       "aggError": "",
       "aggOverflow": false,
       "aggSchema": [],
       "aggSeriesLimitReached": false,
       "aggType": "",
       "arguments": {},
       "columnCustomDisplayInfos": {},
       "data": [
        [
         1,
         "João Silva",
         20,
         1200.0
        ]
       ],
       "datasetInfos": [],
       "dbfsResultPath": null,
       "isJsonSchema": true,
       "metadata": {},
       "overflow": false,
       "plotOptions": {
        "customPlotOptions": {},
        "displayType": "table",
        "pivotAggregation": null,
        "pivotColumns": null,
        "xColumns": null,
        "yColumns": null
       },
       "removedWidgets": [],
       "schema": [
        {
         "metadata": "{}",
         "name": "id",
         "type": "\"long\""
        },
        {
         "metadata": "{}",
         "name": "nome",
         "type": "\"string\""
        },
        {
         "metadata": "{}",
         "name": "desconto_aplicado",
         "type": "\"long\""
        },
        {
         "metadata": "{}",
         "name": "novo_valor_divida",
         "type": "\"double\""
        }
       ],
       "type": "table"
      }
     },
     "output_type": "display_data"
    }
   ],
   "source": [
    "%sql\n",
    "SELECT * FROM historico_sorteios ORDER BY id DESC;\n"
   ]
  }
 ],
 "metadata": {
  "application/vnd.databricks.v1+notebook": {
   "computePreferences": null,
   "dashboards": [
    {
     "elements": [
      {
       "dashboardResultIndex": 0,
       "elementNUID": "b8c1374a-f15d-4fa6-a38e-bfd2d156c059",
       "elementType": "command",
       "guid": "7efdf3a9-c9fa-4ae7-9d23-8241cc059814",
       "options": null,
       "position": {
        "height": 6,
        "width": 12,
        "x": 0,
        "y": 0,
        "z": null
       },
       "resultIndex": null
      }
     ],
     "globalVars": {},
     "guid": "",
     "layoutOption": {
      "grid": true,
      "stack": true
     },
     "nuid": "f0ccc9d7-21a0-4909-ac64-432956e604d3",
     "origId": 568801057026881,
     "title": "Dashboard",
     "version": "DashboardViewV1",
     "width": 1024
    }
   ],
   "environmentMetadata": {
    "base_environment": "",
    "client": "1"
   },
   "language": "python",
   "notebookMetadata": {
    "mostRecentlyExecutedCommandWithImplicitDF": {
     "commandId": 568801057026880,
     "dataframes": [
      "_sqldf"
     ]
    },
    "pythonIndentUnit": 2
   },
   "notebookName": "Framework",
   "widgets": {}
  }
 },
 "nbformat": 4,
 "nbformat_minor": 0
}
